{
 "cells": [
  {
   "cell_type": "code",
   "execution_count": 59,
   "metadata": {},
   "outputs": [],
   "source": [
    "# Author: CHANGJUN LEE\n",
    "# Date: 20200205\n",
    "# CS301-006, Professor Watson\n",
    "# HW02 Solution\n",
    "# Generally, this project shows statistics of min, max, Q1, Q2, Q3, and outliers. The difference calculation between problem 2 and 3 which are same outcomes. \n",
    "# link to the git repo (ex: https://github.com/jun93lee/CJ)\n",
    "# link-to-the-relevant-git-commit (ex: https://github.com/jun93lee/CJ/commit/dbde4b84c49e2d541e9e7ac3ab17c6884a11dfd8)\n",
    "# name-of-the-branch (ex: master)"
   ]
  },
  {
   "cell_type": "markdown",
   "metadata": {},
   "source": [
    "## HW 02 - Base Code to Start"
   ]
  },
  {
   "cell_type": "markdown",
   "metadata": {},
   "source": [
    "#### Use these two samples to test your functions"
   ]
  },
  {
   "cell_type": "code",
   "execution_count": 3,
   "metadata": {},
   "outputs": [],
   "source": [
    "grades = [0, 0, 14, 35, 63, 66, 75, 77, 78, 80, 81, 81, 87, 89, 90, 91, 100]"
   ]
  },
  {
   "cell_type": "code",
   "execution_count": 4,
   "metadata": {},
   "outputs": [],
   "source": [
    "times = [5, 10, 10, 15, 15, 15, 15, 20, 20, 20, 25, 30, 30, 40, 40, 45, 60, 60, 65, 89]"
   ]
  },
  {
   "cell_type": "markdown",
   "metadata": {},
   "source": [
    "### Please answer Problem 2 below:"
   ]
  },
  {
   "cell_type": "code",
   "execution_count": 5,
   "metadata": {},
   "outputs": [
    {
     "name": "stdout",
     "output_type": "stream",
     "text": [
      "The following are outliers:  [0, 0, 14]\n",
      "{'min': 35, 'Q1': 63.0, 'Q2': 78.0, 'Q3': 87.0, 'max': 100}\n",
      "The following are outliers:  [89]\n",
      "{'min': 5, 'Q1': 15.0, 'Q2': 22.5, 'Q3': 41.25, 'max': 65}\n"
     ]
    }
   ],
   "source": [
    "import numpy as np\n",
    "import pandas as pd\n",
    "\n",
    "def q_summary_V1(num):\n",
    "    \n",
    "    d = {}\n",
    "    lst = [] #list of outliers\n",
    "    score = [] # No outliers exclusions, new min and max\n",
    "    \n",
    "    #n = set(grades)\n",
    "    #Q1 = (1(n+1))/4\n",
    "    #Q2 = (2(n+1))/4\n",
    "    #Q3 = (3(n+1))/4\n",
    "    \n",
    "    \n",
    "    Q1 = np.percentile(num, 25) #quantile\n",
    "    Q3 = np.percentile(num, 75) #quantile\n",
    "    #d[\"IQR\"] = Q3 - Q1\n",
    "    \n",
    "    IQR = Q3 - Q1\n",
    "    lower = Q1 - (1.5*IQR)\n",
    "    upper = Q3 + (1.5*IQR)\n",
    "    meanData = np.mean(num) # mean\n",
    "    stdData = np.std(num) # standard deviation\n",
    "    \n",
    "    for i in num:\n",
    "        if i < lower or i > upper:\n",
    "            lst.append(i) #Outliers\n",
    "        else:\n",
    "            score.append(i) #Except outliers\n",
    "            \n",
    "    print(\"The following are outliers: \",lst)\n",
    "    \n",
    "    d[\"min\"] = min(score)\n",
    "    d[\"Q1\"] = np.quantile(num, .25) \n",
    "    d[\"Q2\"] = np.quantile(num, .5)\n",
    "    d[\"Q3\"] = np.quantile(num, .75)\n",
    "    d[\"max\"] = max(score)\n",
    "    \n",
    "    #for j in grades:\n",
    "    #    if j > lower and i < upper:\n",
    "    #        d.update(j)\n",
    "    \n",
    "    return d\n",
    "    \n",
    "print(q_summary_V1(grades))\n",
    "print(q_summary_V1(times))"
   ]
  },
  {
   "cell_type": "code",
   "execution_count": 6,
   "metadata": {},
   "outputs": [
    {
     "data": {
      "text/plain": [
       "17"
      ]
     },
     "execution_count": 6,
     "metadata": {},
     "output_type": "execute_result"
    }
   ],
   "source": [
    "    len(grades) # Count of grades"
   ]
  },
  {
   "cell_type": "code",
   "execution_count": null,
   "metadata": {},
   "outputs": [],
   "source": []
  },
  {
   "cell_type": "code",
   "execution_count": null,
   "metadata": {},
   "outputs": [],
   "source": []
  },
  {
   "cell_type": "markdown",
   "metadata": {},
   "source": [
    "### Please answer Problem 3 below:"
   ]
  },
  {
   "cell_type": "code",
   "execution_count": 7,
   "metadata": {},
   "outputs": [],
   "source": [
    "# Not using numpy methods in Problem 3.\n",
    "\n",
    "import math \n",
    "\n",
    "def get_quantile_indexes(n, p):\n",
    "    '''\n",
    "    Calculate index values as input for interpolation\n",
    "    \n",
    "    input\n",
    "    _____\n",
    "    n (list) - the list of numbers\n",
    "    p (float) - the percentage corresponding to the quantile (ex:0.25)\n",
    "    \n",
    "    output\n",
    "    ______\n",
    "    l, i, u (float) - the corresponding x1, x, x1 values as calculated via class\n",
    "    '''\n",
    "    i = p*(n+1) - 1\n",
    "    l = np.floor(i)\n",
    "    u = np.ceil(i)\n",
    "    p *= 2\n",
    "    return l,i,u\n",
    "\n",
    "\n",
    "def get_quantile(nums, q):\n",
    "    '''\n",
    "    Use the in-class method of interpolation to calculate the quantile\n",
    "    \n",
    "    input\n",
    "    _____\n",
    "    nums (list) - the list of numbers\n",
    "    q (float) - the quantile desired\n",
    "    \n",
    "    output\n",
    "    ______\n",
    "    y (int/float) - this is the value in nums at the given quantile q\n",
    "    '''\n",
    "    x1, x, x2 = get_quantile_indexes(len(nums), q)\n",
    "    if np.floor(x) == x1 and np.ceil(x) == x1:\n",
    "        x = int(x)\n",
    "        y = nums[x]\n",
    "        # print('x = {}, y = {}'.format(x, y))\n",
    "        return y\n",
    "        \n",
    "    # print('x1, x, x2 = {}, {}, {}'.format(x1, x, x2))\n",
    "    y1, y2 = nums[int(x1)], nums[int(x2)]\n",
    "    # print('y1, y2 = {}, {}'.format(y1, y2))\n",
    "    y = (x - x1) * (y1-y2) / (x1 - x2) + y1\n",
    "    # print('y =', y)\n",
    "    return y\n"
   ]
  },
  {
   "cell_type": "code",
   "execution_count": 8,
   "metadata": {},
   "outputs": [
    {
     "name": "stdout",
     "output_type": "stream",
     "text": [
      "The following are outliers:  []\n",
      "{'min': 0, 'Q1': 49.0, 'Q2': 78, 'Q3': 88.0, 'max': 100}\n",
      "The following are outliers:  [89]\n",
      "{'min': 5, 'Q1': 15.0, 'Q2': 22.5, 'Q3': 43.75, 'max': 65}\n"
     ]
    }
   ],
   "source": [
    "def q_summary_V2(nums):\n",
    "    \n",
    "    nums = sorted(nums) # guarantee to use it function\n",
    "    d = {}\n",
    "    lst = [] #list of outliers\n",
    "    score = []\n",
    "    \n",
    "    #n = set(grades)\n",
    "    #Q1 = (1(n+1))/4\n",
    "    #Q2 = (2(n+1))/4\n",
    "    #Q3 = (3(n+1))/4\n",
    "      \n",
    "    #d[\"IQR\"] = Q3 - Q1\n",
    "    \n",
    "    Q1 = get_quantile(nums, 0.25)\n",
    "    Q2 = get_quantile(nums, 0.5)\n",
    "    Q3 = get_quantile(nums, 0.75)\n",
    "    \n",
    "    IQR = Q3 - Q1\n",
    "    lower = Q1 - (1.5*IQR)\n",
    "    upper = Q3 + (1.5*IQR)\n",
    "    #meanData = np.mean(grades)\n",
    "    #stdData = np.std(grades)\n",
    "    #print(lower, upper)\n",
    "    \n",
    "    for i in nums:\n",
    "        if i < lower or i > upper:\n",
    "            lst.append(i)\n",
    "        else:\n",
    "            score.append(i)\n",
    "    \n",
    "    print(\"The following are outliers: \", lst)\n",
    "    d[\"min\"] = min(score)\n",
    "    d[\"Q1\"] = Q1\n",
    "    d[\"Q2\"] = Q2\n",
    "    d[\"Q3\"] = Q3\n",
    "    d[\"max\"] = max(score)\n",
    "    \n",
    "    #for j in grades:\n",
    "    #    if j > lower and i < upper:\n",
    "    #        d.update(j)\n",
    "    \n",
    "    return d\n",
    "    \n",
    "print(q_summary_V2(grades))\n",
    "print(q_summary_V2(times))"
   ]
  },
  {
   "cell_type": "code",
   "execution_count": 9,
   "metadata": {},
   "outputs": [
    {
     "data": {
      "text/plain": [
       "[0, 0, 14, 35, 63, 66, 75, 77, 78, 80, 81, 81, 87, 89, 90, 91, 100]"
      ]
     },
     "execution_count": 9,
     "metadata": {},
     "output_type": "execute_result"
    }
   ],
   "source": [
    "grades"
   ]
  },
  {
   "cell_type": "code",
   "execution_count": null,
   "metadata": {},
   "outputs": [],
   "source": []
  },
  {
   "cell_type": "code",
   "execution_count": null,
   "metadata": {},
   "outputs": [],
   "source": []
  }
 ],
 "metadata": {
  "kernelspec": {
   "display_name": "Python 3",
   "language": "python",
   "name": "python3"
  },
  "language_info": {
   "codemirror_mode": {
    "name": "ipython",
    "version": 3
   },
   "file_extension": ".py",
   "mimetype": "text/x-python",
   "name": "python",
   "nbconvert_exporter": "python",
   "pygments_lexer": "ipython3",
   "version": "3.7.4"
  }
 },
 "nbformat": 4,
 "nbformat_minor": 4
}
